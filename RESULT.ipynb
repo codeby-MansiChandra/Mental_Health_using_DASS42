{
 "cells": [
  {
   "cell_type": "markdown",
   "id": "6dd0eb31",
   "metadata": {},
   "source": [
    "### Mental Health Prediction analysis"
   ]
  },
  {
   "cell_type": "markdown",
   "id": "caab2821",
   "metadata": {},
   "source": [
    "##### Mild Anxiety and Extremely severe Depression and Severe Stress"
   ]
  },
  {
   "cell_type": "code",
   "execution_count": 2,
   "id": "2e3bf468",
   "metadata": {},
   "outputs": [
    {
     "name": "stdout",
     "output_type": "stream",
     "text": [
      "Enter the patients data: 32,1,1,0,2,3,0,3,2,2,0,1,0,3,0,2,1,3,1,1,2,0,1,0,0,2,1,3,0,1,1,2,1,3,1,3,1,3,1,0,1,0,3,0,0,0,54,2\n",
      "This person has Mild Anxiety and Extremely severe Depression and Severe Stress\n",
      "Accuracy level of this model: 0.85\n"
     ]
    }
   ],
   "source": [
    "import pandas as pd\n",
    "from sklearn.model_selection import train_test_split\n",
    "\n",
    "df = pd.read_csv(\"csv_Mental_Health.csv\")\n",
    "X = df.drop('Result', axis='columns')\n",
    "y = df['Result']\n",
    "ycpy = df['Result']\n",
    "X_train, X_test, y_train, y_test = train_test_split(X.values, y.values, test_size=0.1)\n",
    "#-----------------------------Accuracy Calculation--------------------------------\n",
    "from xgboost import XGBClassifier\n",
    "model = XGBClassifier()\n",
    "model.fit(X_train, y_train)\n",
    "accuracy= model.score(X_test, y_test)\n",
    "#-----------------------------Predict value---------------------------------------\n",
    "patient_data = input(\"Enter the patients data: \")\n",
    "arr = patient_data.split(\",\")\n",
    "arr = [int(x) for x in arr]  \n",
    "predicted_output=model.predict([arr])\n",
    "\n",
    "array_value = predicted_output[0]\n",
    "if array_value == 0:\n",
    "    print('This person has Mild Anxiety and Extremely severe Depression and Severe Stress')\n",
    "elif array_value == 1:\n",
    "    print('This person has Extremely severe Anxiety and Moderate Depression and Moderate Stress')\n",
    "elif array_value == 2:\n",
    "    print('This person has Mild Anxiety and Mild Depression and Mild Stress')     \n",
    "else:\n",
    "    print('Invalid data')\n",
    "\n",
    "print('Accuracy level of this model:', accuracy)"
   ]
  },
  {
   "cell_type": "markdown",
   "id": "f5ddee51",
   "metadata": {},
   "source": [
    "####  Extremely severe Anxiety and Moderate Depression and Moderate Stress"
   ]
  },
  {
   "cell_type": "code",
   "execution_count": 3,
   "id": "f0a9305c",
   "metadata": {},
   "outputs": [
    {
     "name": "stdout",
     "output_type": "stream",
     "text": [
      "Enter the patients data: 78,0,2,0,3,3,1,3,2,1,3,1,1,1,3,3,0,1,3,0,0,1,2,3,3,3,3,3,3,1,0,3,1,3,3,1,0,0,2,2,1,3,2,1,2,3,78,2\n",
      "This person has Extremely severe Anxiety and Moderate Depression and Moderate Stress\n",
      "Accuracy level of this model: 1.0\n"
     ]
    }
   ],
   "source": [
    "import pandas as pd\n",
    "from sklearn.model_selection import train_test_split\n",
    "\n",
    "df = pd.read_csv(\"csv_Mental_Health.csv\")\n",
    "X = df.drop('Result', axis='columns')\n",
    "y = df['Result']\n",
    "ycpy = df['Result']\n",
    "X_train, X_test, y_train, y_test = train_test_split(X.values, y.values, test_size=0.1)\n",
    "#-----------------------------Accuracy Calculation--------------------------------\n",
    "from xgboost import XGBClassifier\n",
    "model = XGBClassifier()\n",
    "model.fit(X_train, y_train)\n",
    "accuracy= model.score(X_test, y_test)\n",
    "#-----------------------------Predict value---------------------------------------\n",
    "patient_data = input(\"Enter the patients data: \")\n",
    "arr = patient_data.split(\",\")\n",
    "arr = [int(x) for x in arr]  \n",
    "predicted_output=model.predict([arr])\n",
    "\n",
    "array_value = predicted_output[0]\n",
    "if array_value == 0:\n",
    "    print('This person has Mild Anxiety and Extremely severe Depression and Severe Stress')\n",
    "elif array_value == 1:\n",
    "    print('This person has Extremely severe Anxiety and Moderate Depression and Moderate Stress')\n",
    "elif array_value == 2:\n",
    "    print('This person has Mild Anxiety and Mild Depression and Mild Stress')     \n",
    "else:\n",
    "    print('Invalid data')\n",
    "\n",
    "print('Accuracy level of this model:', accuracy)\n",
    "\n"
   ]
  },
  {
   "cell_type": "code",
   "execution_count": 18,
   "id": "4578dc1b",
   "metadata": {},
   "outputs": [
    {
     "name": "stdout",
     "output_type": "stream",
     "text": [
      "Enter the patients data: 53,0,1,1,0,3,0,1,2,1,0,0,0,2,0,0,0,1,0,0,0,0,3,0,2,0,0,0,1,0,0,1,0,0,3,0,0,0,3,0,2,2,0,2,2,0,31,1\n",
      "This person has Mild Anxiety and Extremely severe Depression and Severe Stress\n",
      "Accuracy level of this model: 0.95\n"
     ]
    }
   ],
   "source": [
    "import pandas as pd\n",
    "from sklearn.model_selection import train_test_split\n",
    "\n",
    "df = pd.read_csv(\"csv_Mental_Health.csv\")\n",
    "X = df.drop('Result', axis='columns')\n",
    "y = df['Result']\n",
    "ycpy = df['Result']\n",
    "X_train, X_test, y_train, y_test = train_test_split(X.values, y.values, test_size=0.1)\n",
    "#-----------------------------Accuracy Calculation--------------------------------\n",
    "from xgboost import XGBClassifier\n",
    "model = XGBClassifier()\n",
    "model.fit(X_train, y_train)\n",
    "accuracy= model.score(X_test, y_test)\n",
    "#-----------------------------Predict value---------------------------------------\n",
    "patient_data = input(\"Enter the patients data: \")\n",
    "arr = patient_data.split(\",\")\n",
    "arr = [int(x) for x in arr]  \n",
    "predicted_output=model.predict([arr])\n",
    "\n",
    "array_value = predicted_output[0]\n",
    "if array_value == 0:\n",
    "    print('This person has Mild Anxiety and Extremely severe Depression and Severe Stress')\n",
    "elif array_value == 1:\n",
    "    print('This person has Extremely severe Anxiety and Moderate Depression and Moderate Stress')\n",
    "elif array_value == 2:\n",
    "    print('This person has Mild Anxiety and Mild Depression and Mild Stress')     \n",
    "else:\n",
    "    print('Invalid data')\n",
    "\n",
    "print('Accuracy level of this model:', accuracy)"
   ]
  },
  {
   "cell_type": "code",
   "execution_count": null,
   "id": "c7979186",
   "metadata": {},
   "outputs": [],
   "source": [
    "import pandas as pd\n",
    "from sklearn.model_selection import train_test_split\n",
    "\n",
    "df = pd.read_csv(\"csv_Mental_Health.csv\")\n",
    "X = df.drop('Result', axis='columns')\n",
    "y = df['Result']\n",
    "ycpy = df['Result']\n",
    "X_train, X_test, y_train, y_test = train_test_split(X.values, y.values, test_size=0.1)\n",
    "#-----------------------------Accuracy Calculation--------------------------------\n",
    "from xgboost import XGBClassifier\n",
    "model = XGBClassifier()\n",
    "model.fit(X_train, y_train)\n",
    "accuracy= model.score(X_test, y_test)\n",
    "#-----------------------------Predict value---------------------------------------\n",
    "patient_data = input(\"Enter the patients data: \")\n",
    "arr = patient_data.split(\",\")\n",
    "arr = [int(x) for x in arr]  \n",
    "predicted_output=model.predict([arr])\n",
    "\n",
    "array_value = predicted_output[0]\n",
    "if array_value == 0:\n",
    "    print('This person has Mild Anxiety and Extremely severe Depression and Severe Stress')\n",
    "elif array_value == 1:\n",
    "    print('This person has Extremely severe Anxiety and Moderate Depression and Moderate Stress')\n",
    "elif array_value == 2:\n",
    "    print('This person has Mild Anxiety and Mild Depression and Mild Stress')     \n",
    "else:\n",
    "    print('Invalid data')\n"
   ]
  },
  {
   "cell_type": "code",
   "execution_count": null,
   "id": "cee0ac47",
   "metadata": {},
   "outputs": [],
   "source": []
  }
 ],
 "metadata": {
  "kernelspec": {
   "display_name": "Python 3 (ipykernel)",
   "language": "python",
   "name": "python3"
  },
  "language_info": {
   "codemirror_mode": {
    "name": "ipython",
    "version": 3
   },
   "file_extension": ".py",
   "mimetype": "text/x-python",
   "name": "python",
   "nbconvert_exporter": "python",
   "pygments_lexer": "ipython3",
   "version": "3.7.16"
  }
 },
 "nbformat": 4,
 "nbformat_minor": 5
}
